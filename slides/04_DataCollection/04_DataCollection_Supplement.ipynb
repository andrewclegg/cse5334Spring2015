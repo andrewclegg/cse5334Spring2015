{
 "metadata": {
  "name": "",
  "signature": "sha256:b57aa782df64c202e15e773e5d4996c0d8db3625d21417b63b4e792ba51cab8b"
 },
 "nbformat": 3,
 "nbformat_minor": 0,
 "worksheets": [
  {
   "cells": [
    {
     "cell_type": "code",
     "collapsed": false,
     "input": [
      "import requests\n",
      "from pattern import web\n",
      "from BeautifulSoup import BeautifulSoup"
     ],
     "language": "python",
     "metadata": {},
     "outputs": [],
     "prompt_number": 7
    },
    {
     "cell_type": "code",
     "collapsed": false,
     "input": [
      "url = 'http://www.imdb.com/search/title?sort=num_votes,desc&start=1&title_type=feature&year=1950,2012'\n",
      "r = requests.get(url)\n",
      "print r.url"
     ],
     "language": "python",
     "metadata": {},
     "outputs": [
      {
       "output_type": "stream",
       "stream": "stdout",
       "text": [
        "http://www.imdb.com/search/title?sort=num_votes,desc&start=1&title_type=feature&year=1950,2012\n"
       ]
      }
     ],
     "prompt_number": 8
    },
    {
     "cell_type": "heading",
     "level": 2,
     "metadata": {},
     "source": [
      "Using Pattern"
     ]
    },
    {
     "cell_type": "code",
     "collapsed": false,
     "input": [
      "dom = web.Element(r.text)\n",
      "\n",
      "for movie in dom.by_tag('td.title'):    \n",
      "    title = movie.by_tag('a')[0].content\n",
      "    genres = movie.by_tag('span.genre')[0].by_tag('a')\n",
      "    genres = [g.content for g in genres]\n",
      "    runtime = movie.by_tag('span.runtime')[0].content\n",
      "    rating = movie.by_tag('span.value')[0].content\n",
      "    print title, genres, runtime, rating"
     ],
     "language": "python",
     "metadata": {},
     "outputs": [
      {
       "output_type": "stream",
       "stream": "stdout",
       "text": [
        "The Shawshank Redemption [u'Crime', u'Drama'] 142 mins. 9.3\n",
        "The Dark Knight [u'Action', u'Crime', u'Drama'] 152 mins. 9.0\n",
        "Inception [u'Action', u'Mystery', u'Sci-Fi', u'Thriller'] 148 mins. 8.8\n",
        "Fight Club [u'Drama'] 139 mins. 8.9\n",
        "Pulp Fiction [u'Crime', u'Drama', u'Thriller'] 154 mins. 8.9\n",
        "The Lord of the Rings: The Fellowship of the Ring [u'Adventure', u'Fantasy'] 178 mins. 8.8\n",
        "The Lord of the Rings: The Return of the King [u'Adventure', u'Fantasy'] 201 mins. 8.9\n",
        "The Matrix [u'Action', u'Sci-Fi'] 136 mins. 8.7\n",
        "Forrest Gump [u'Drama', u'Romance'] 142 mins. 8.8\n",
        "The Godfather [u'Crime', u'Drama'] 175 mins. 9.2\n",
        "The Dark Knight Rises [u'Action', u'Thriller'] 165 mins. 8.5\n",
        "The Lord of the Rings: The Two Towers [u'Adventure', u'Fantasy'] 179 mins. 8.8\n",
        "Se7en [u'Drama', u'Mystery', u'Thriller'] 127 mins. 8.7\n",
        "Gladiator [u'Action', u'Drama'] 155 mins. 8.5\n",
        "Batman Begins [u'Action', u'Adventure'] 140 mins. 8.3\n",
        "The Avengers [u'Action', u'Adventure', u'Sci-Fi'] 143 mins. 8.2\n",
        "Avatar [u'Action', u'Adventure', u'Fantasy', u'Sci-Fi'] 162 mins. 7.9\n",
        "Django Unchained [u'Western'] 165 mins. 8.5\n",
        "Star Wars [u'Action', u'Adventure', u'Fantasy', u'Sci-Fi'] 121 mins. 8.7\n",
        "Saving Private Ryan [u'Action', u'Drama', u'War'] 169 mins. 8.6\n",
        "The Departed [u'Crime', u'Drama', u'Thriller'] 151 mins. 8.5\n",
        "Schindler&#x27;s List [u'Biography', u'Drama', u'History'] 195 mins. 8.9\n",
        "Memento"
       ]
      },
      {
       "output_type": "stream",
       "stream": "stdout",
       "text": [
        " [u'Mystery', u'Thriller'] 113 mins. 8.5\n",
        "The Silence of the Lambs [u'Drama', u'Thriller'] 118 mins. 8.6\n",
        "American Beauty [u'Drama'] 122 mins. 8.4\n",
        "Inglourious Basterds [u'Adventure', u'Drama', u'War'] 153 mins. 8.3\n",
        "The Prestige [u'Drama', u'Mystery', u'Thriller'] 130 mins. 8.5\n",
        "Pirates of the Caribbean: The Curse of the Black Pearl [u'Adventure', u'Fantasy'] 143 mins. 8.1\n",
        "Titanic [u'Drama', u'Romance'] 194 mins. 7.7\n",
        "V for Vendetta [u'Action', u'Drama', u'Thriller'] 132 mins. 8.2\n",
        "Star Wars: Episode V - The Empire Strikes Back [u'Action', u'Adventure', u'Fantasy', u'Sci-Fi'] 124 mins. 8.8\n",
        "American History X [u'Crime', u'Drama'] 119 mins. 8.6\n",
        "The Godfather: Part II [u'Crime', u'Drama'] 200 mins. 9.1\n",
        "The Usual Suspects [u'Crime', u'Drama', u'Thriller'] 106 mins. 8.7\n",
        "Terminator 2: Judgment Day [u'Action', u'Sci-Fi'] 137 mins. 8.5\n",
        "The Green Mile [u'Crime', u'Drama', u'Fantasy', u'Mystery'] 189 mins. 8.5\n",
        "Braveheart [u'Action', u'Biography', u'Drama', u'History', u'War'] 177 mins. 8.4\n",
        "Shutter Island [u'Mystery', u'Thriller'] 138 mins. 8.1\n",
        "Goodfellas [u'Biography', u'Crime', u'Drama'] 146 mins. 8.7\n",
        "Kill Bill: Vol. 1 [u'Action', u'Crime'] 111 mins. 8.1\n",
        "The Sixth Sense [u'Drama', u'Mystery', u'Thriller'] 107 mins. 8.2\n",
        "L&#xE9;on: The Professional [u'Crime', u'Drama', u'Thriller'] 110 mins. 8.6\n",
        "The Hunger Games [u'Adventure', u'Sci-Fi'] 142 mins. 7.3\n",
        "Back to the Future [u'Adventure', u'Comedy', u'Sci-Fi'] 116 mins. 8.5\n",
        "One Flew Over the Cuckoo&#x27;s Nest [u'Drama'] 133 mins. 8.7\n",
        "WALL&#xB7;E [u'Animation', u'Adventure', u'Romance', u'Sci-Fi'] 98 mins. 8.5\n",
        "Sin City [u'Crime', u'Thriller'] 124 mins. 8.1\n",
        "Iron Man [u'Action', u'Adventure', u'Sci-Fi'] 126 mins. "
       ]
      },
      {
       "output_type": "stream",
       "stream": "stdout",
       "text": [
        "7.9\n",
        "Eternal Sunshine of the Spotless Mind [u'Drama', u'Romance', u'Sci-Fi'] 108 mins. 8.4\n",
        "Slumdog Millionaire [u'Drama', u'Romance'] 120 mins. 8.0\n"
       ]
      }
     ],
     "prompt_number": 12
    },
    {
     "cell_type": "heading",
     "level": 2,
     "metadata": {},
     "source": [
      "Using BeautifulSoup"
     ]
    },
    {
     "cell_type": "code",
     "collapsed": false,
     "input": [
      "bs = BeautifulSoup(r.text)\n",
      "for movie in bs.findAll('td', 'title'):\n",
      "    title = movie.find('a').contents[0]\n",
      "    genres = movie.find('span', 'genre').findAll('a')\n",
      "    genres = [g.contents[0] for g in genres]\n",
      "    runtime = movie.find('span', 'runtime').contents[0]\n",
      "    rating = movie.find('span', 'value').contents[0]\n",
      "    print title, genres, runtime, rating"
     ],
     "language": "python",
     "metadata": {},
     "outputs": [
      {
       "output_type": "stream",
       "stream": "stdout",
       "text": [
        "The Shawshank Redemption [u'Crime', u'Drama'] 142 mins. 9.3\n",
        "The Dark Knight [u'Action', u'Crime', u'Drama'] 152 mins. 9.0\n",
        "Inception [u'Action', u'Mystery', u'Sci-Fi', u'Thriller'] 148 mins. 8.8\n",
        "Fight Club [u'Drama'] 139 mins. 8.9\n",
        "Pulp Fiction [u'Crime', u'Drama', u'Thriller'] 154 mins. 8.9\n",
        "The Lord of the Rings: The Fellowship of the Ring [u'Adventure', u'Fantasy'] 178 mins. 8.8\n",
        "The Lord of the Rings: The Return of the King [u'Adventure', u'Fantasy'] 201 mins. 8.9\n",
        "The Matrix [u'Action', u'Sci-Fi'] 136 mins. 8.7\n",
        "Forrest Gump [u'Drama', u'Romance'] 142 mins. 8.8\n",
        "The Godfather [u'Crime', u'Drama'] 175 mins. 9.2\n",
        "The Dark Knight Rises [u'Action', u'Thriller'] 165 mins. 8.5\n",
        "The Lord of the Rings: The Two Towers [u'Adventure', u'Fantasy'] 179 mins. 8.8\n",
        "Se7en [u'Drama', u'Mystery', u'Thriller'] 127 mins. 8.7\n",
        "Gladiator [u'Action', u'Drama'] 155 mins. 8.5\n",
        "Batman Begins [u'Action', u'Adventure'] 140 mins. 8.3\n",
        "The Avengers [u'Action', u'Adventure', u'Sci-Fi'] 143 mins. 8.2\n",
        "Avatar [u'Action', u'Adventure', u'Fantasy', u'Sci-Fi'] 162 mins. 7.9\n",
        "Django Unchained [u'Western'] 165 mins. 8.5\n",
        "Star Wars [u'Action', u'Adventure', u'Fantasy', u'Sci-Fi'] 121 mins. 8.7\n",
        "Saving Private Ryan [u'Action', u'Drama', u'War'] 169 mins. 8.6\n",
        "The Departed [u'Crime', u'Drama', u'Thriller'] 151 mins. 8.5\n",
        "Schindler&#x27;s List [u'Biography', u'Drama', u'History'] 195 mins. 8.9\n",
        "Memento [u'Mystery', u'Thriller'] 113 mins. 8.5\n",
        "The Silence of the Lambs [u'Drama', u'Thriller'] 118 mins. 8.6\n",
        "American Beauty [u'Drama'] 122 mins. 8.4\n",
        "Inglourious Basterds [u'Adventure', u'Drama', u'War'] 153 mins. 8.3\n",
        "The Prestige [u'Drama', u'Mystery', u'Thriller'] 130 mins. 8.5\n",
        "Pirates of the Caribbean: The Curse of the Black Pearl"
       ]
      },
      {
       "output_type": "stream",
       "stream": "stdout",
       "text": [
        " [u'Adventure', u'Fantasy'] 143 mins. 8.1\n",
        "Titanic [u'Drama', u'Romance'] 194 mins. 7.7\n",
        "V for Vendetta [u'Action', u'Drama', u'Thriller'] 132 mins. 8.2\n",
        "Star Wars: Episode V - The Empire Strikes Back [u'Action', u'Adventure', u'Fantasy', u'Sci-Fi'] 124 mins. 8.8\n",
        "American History X [u'Crime', u'Drama'] 119 mins. 8.6\n",
        "The Godfather: Part II [u'Crime', u'Drama'] 200 mins. 9.1\n",
        "The Usual Suspects [u'Crime', u'Drama', u'Thriller'] 106 mins. 8.7\n",
        "Terminator 2: Judgment Day [u'Action', u'Sci-Fi'] 137 mins. 8.5\n",
        "The Green Mile [u'Crime', u'Drama', u'Fantasy', u'Mystery'] 189 mins. 8.5\n",
        "Braveheart [u'Action', u'Biography', u'Drama', u'History', u'War'] 177 mins. 8.4\n",
        "Shutter Island [u'Mystery', u'Thriller'] 138 mins. 8.1\n",
        "Goodfellas [u'Biography', u'Crime', u'Drama'] 146 mins. 8.7\n",
        "Kill Bill: Vol. 1 [u'Action', u'Crime'] 111 mins. 8.1\n",
        "The Sixth Sense [u'Drama', u'Mystery', u'Thriller'] 107 mins. 8.2\n",
        "L&#xE9;on: The Professional [u'Crime', u'Drama', u'Thriller'] 110 mins. 8.6\n",
        "The Hunger Games [u'Adventure', u'Sci-Fi'] 142 mins. 7.3\n",
        "Back to the Future [u'Adventure', u'Comedy', u'Sci-Fi'] 116 mins. 8.5\n",
        "One Flew Over the Cuckoo&#x27;s Nest [u'Drama'] 133 mins. 8.7\n",
        "WALL&#xB7;E [u'Animation', u'Adventure', u'Romance', u'Sci-Fi'] 98 mins. 8.5\n",
        "Sin City [u'Crime', u'Thriller'] 124 mins. 8.1\n",
        "Iron Man [u'Action', u'Adventure', u'Sci-Fi'] 126 mins. 7.9\n",
        "Eternal Sunshine of the Spotless Mind [u'Drama', u'Romance', u'Sci-Fi'] 108 mins. 8.4\n",
        "Slumdog Millionaire [u'Drama', u'Romance'] 120 mins. 8.0\n"
       ]
      }
     ],
     "prompt_number": 6
    },
    {
     "cell_type": "code",
     "collapsed": false,
     "input": [],
     "language": "python",
     "metadata": {},
     "outputs": []
    }
   ],
   "metadata": {}
  }
 ]
}